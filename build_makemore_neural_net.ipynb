{
 "cells": [
  {
   "cell_type": "code",
   "execution_count": 17,
   "id": "ce2ec95e",
   "metadata": {},
   "outputs": [],
   "source": [
    "import torch\n",
    "import torch.nn.functional as F\n",
    "import matplotlib.pyplot as plt\n",
    "%matplotlib inline"
   ]
  },
  {
   "cell_type": "code",
   "execution_count": 4,
   "id": "be5af79a",
   "metadata": {},
   "outputs": [],
   "source": [
    "words = open('names.txt', 'r').read().splitlines()"
   ]
  },
  {
   "cell_type": "code",
   "execution_count": 7,
   "id": "b6339d17",
   "metadata": {},
   "outputs": [],
   "source": [
    "# create a lookup between integers and letters (strings to integers)\n",
    "chars = sorted(list(set(''.join(words))))\n",
    "stoi = {s:i+1 for i,s in enumerate(chars)}\n",
    "stoi['.']=0\n",
    "\n",
    "itos = {i:s for s,i in stoi.items()}\n"
   ]
  },
  {
   "cell_type": "code",
   "execution_count": 13,
   "id": "fc47df10",
   "metadata": {},
   "outputs": [
    {
     "name": "stdout",
     "output_type": "stream",
     "text": [
      ". e\n",
      "e m\n",
      "m m\n",
      "m a\n",
      "a .\n"
     ]
    }
   ],
   "source": [
    "# create a training set of bigrams (x, y)\n",
    "xs, ys = [], []\n",
    "\n",
    "\n",
    "for w in words[:1]:\n",
    "    # add start and end tokens\n",
    "    chs = ['.'] + list(w) + ['.']\n",
    "    for ch1, ch2 in zip(chs, chs[1:]):\n",
    "        ix1 = stoi[ch1]\n",
    "        ix2 = stoi[ch2]\n",
    "        print(ch1, ch2)\n",
    "        xs.append(ix1)\n",
    "        ys.append(ix2)\n",
    "\n",
    "# convert\n",
    "xs = torch.tensor(xs)\n",
    "ys = torch.tensor(ys)"
   ]
  },
  {
   "cell_type": "code",
   "execution_count": 22,
   "id": "7f796709",
   "metadata": {},
   "outputs": [
    {
     "data": {
      "text/plain": [
       "torch.int64"
      ]
     },
     "execution_count": 22,
     "metadata": {},
     "output_type": "execute_result"
    }
   ],
   "source": [
    "xs.dtype"
   ]
  },
  {
   "cell_type": "code",
   "execution_count": 16,
   "id": "f2bca842",
   "metadata": {},
   "outputs": [
    {
     "data": {
      "text/plain": [
       "tensor([ 5, 13, 13,  1,  0])"
      ]
     },
     "execution_count": 16,
     "metadata": {},
     "output_type": "execute_result"
    }
   ],
   "source": [
    "ys"
   ]
  },
  {
   "cell_type": "code",
   "execution_count": 23,
   "id": "6c9f5dc0",
   "metadata": {},
   "outputs": [
    {
     "data": {
      "text/plain": [
       "torch.Size([5, 27])"
      ]
     },
     "execution_count": 23,
     "metadata": {},
     "output_type": "execute_result"
    }
   ],
   "source": [
    "xenc = F.one_hot(xs, num_classes=27).float()\n",
    "xenc.shape"
   ]
  },
  {
   "cell_type": "code",
   "execution_count": 24,
   "id": "0b1c8ee1",
   "metadata": {},
   "outputs": [
    {
     "data": {
      "text/plain": [
       "<matplotlib.image.AxesImage at 0x11f733e50>"
      ]
     },
     "execution_count": 24,
     "metadata": {},
     "output_type": "execute_result"
    },
    {
     "data": {
      "image/png": "[encoded data removed]",
      "text/plain": [
       "<Figure size 640x480 with 1 Axes>"
      ]
     },
     "metadata": {},
     "output_type": "display_data"
    }
   ],
   "source": [
    "plt.imshow(xenc)"
   ]
  },
  {
   "cell_type": "code",
   "execution_count": 28,
   "id": "85f58712",
   "metadata": {},
   "outputs": [],
   "source": [
    "W = torch.randn((27,27))"
   ]
  },
  {
   "cell_type": "code",
   "execution_count": 29,
   "id": "e44ff13f",
   "metadata": {},
   "outputs": [
    {
     "data": {
      "text/plain": [
       "tensor([[-1.4446,  1.5613,  1.7227, -0.9352, -0.5976,  1.4842, -0.3780, -0.3860,\n",
       "          0.4226, -1.1306,  0.8038, -0.9704,  1.4277,  0.3635, -0.8039,  0.1546,\n",
       "          1.5444,  0.1054,  0.8251, -0.9837,  0.1382,  1.5234, -0.0569,  0.4434,\n",
       "          0.9818,  0.3130,  0.9811],\n",
       "        [ 0.1095, -1.7499,  0.3395,  0.8650,  0.2118,  0.9502, -1.7513, -0.2273,\n",
       "         -0.6857, -1.4736,  0.1924,  1.3809,  0.1282,  0.5592, -0.2330,  1.0267,\n",
       "          0.2027,  0.2502, -0.1782, -2.5403, -1.7601,  0.8037,  1.6537,  0.2206,\n",
       "          1.5186, -1.8988, -2.6561],\n",
       "        [ 0.8790, -1.5999,  1.0575,  0.8708, -1.4956, -0.7685,  0.9616, -1.8190,\n",
       "          1.3649, -1.0109,  0.1765,  1.4058, -0.7478, -2.2695, -1.1432, -0.7992,\n",
       "          2.2337, -0.6207, -0.1844, -0.6460, -1.2409,  0.0426,  0.5569, -0.5165,\n",
       "         -1.8262,  0.4860, -0.2482],\n",
       "        [ 0.8790, -1.5999,  1.0575,  0.8708, -1.4956, -0.7685,  0.9616, -1.8190,\n",
       "          1.3649, -1.0109,  0.1765,  1.4058, -0.7478, -2.2695, -1.1432, -0.7992,\n",
       "          2.2337, -0.6207, -0.1844, -0.6460, -1.2409,  0.0426,  0.5569, -0.5165,\n",
       "         -1.8262,  0.4860, -0.2482],\n",
       "        [-0.6678, -0.2352,  1.2127, -0.0396, -0.1699, -1.5174, -0.6282,  0.3219,\n",
       "         -0.5305, -0.4364, -0.6652, -0.6165, -1.3630, -0.5819,  0.6561,  0.8038,\n",
       "          0.9254, -0.7542,  1.0903, -0.1127, -0.6092, -0.5278,  2.3559, -1.6363,\n",
       "          0.8848,  0.3593, -0.8551]])"
      ]
     },
     "execution_count": 29,
     "metadata": {},
     "output_type": "execute_result"
    }
   ],
   "source": [
    "xenc @ W"
   ]
  },
  {
   "cell_type": "code",
   "execution_count": 30,
   "id": "297e1565",
   "metadata": {},
   "outputs": [
    {
     "data": {
      "text/plain": [
       "tensor([[1., 0., 0., 0., 0., 0., 0., 0., 0., 0., 0., 0., 0., 0., 0., 0., 0., 0.,\n",
       "         0., 0., 0., 0., 0., 0., 0., 0., 0.],\n",
       "        [0., 0., 0., 0., 0., 1., 0., 0., 0., 0., 0., 0., 0., 0., 0., 0., 0., 0.,\n",
       "         0., 0., 0., 0., 0., 0., 0., 0., 0.],\n",
       "        [0., 0., 0., 0., 0., 0., 0., 0., 0., 0., 0., 0., 0., 1., 0., 0., 0., 0.,\n",
       "         0., 0., 0., 0., 0., 0., 0., 0., 0.],\n",
       "        [0., 0., 0., 0., 0., 0., 0., 0., 0., 0., 0., 0., 0., 1., 0., 0., 0., 0.,\n",
       "         0., 0., 0., 0., 0., 0., 0., 0., 0.],\n",
       "        [0., 1., 0., 0., 0., 0., 0., 0., 0., 0., 0., 0., 0., 0., 0., 0., 0., 0.,\n",
       "         0., 0., 0., 0., 0., 0., 0., 0., 0.]])"
      ]
     },
     "execution_count": 30,
     "metadata": {},
     "output_type": "execute_result"
    }
   ],
   "source": [
    "xenc"
   ]
  },
  {
   "cell_type": "code",
   "execution_count": null,
   "id": "4a0074d1",
   "metadata": {},
   "outputs": [],
   "source": []
  }
 ],
 "metadata": {
  "kernelspec": {
   "display_name": "Python 3 (ipykernel)",
   "language": "python",
   "name": "python3"
  },
  "language_info": {
   "codemirror_mode": {
    "name": "ipython",
    "version": 3
   },
   "file_extension": ".py",
   "mimetype": "text/x-python",
   "name": "python",
   "nbconvert_exporter": "python",
   "pygments_lexer": "ipython3",
   "version": "3.10.12"
  }
 },
 "nbformat": 4,
 "nbformat_minor": 5
}
